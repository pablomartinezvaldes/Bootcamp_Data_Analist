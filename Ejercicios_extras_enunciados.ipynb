{
 "cells": [
  {
   "attachments": {},
   "cell_type": "markdown",
   "metadata": {},
   "source": [
    "<center><B><FONT COLOR=\"red\"> Repaso General </FONT> Data Analytics </center>  "
   ]
  },
  {
   "attachments": {},
   "cell_type": "markdown",
   "metadata": {},
   "source": [
    "\n",
    "¡Muy buenas! Por aquí tenéis un listado de ejercicios para repasar todo un poquito. La idea es que tras ejecutar cada \"orden\" o \"punto\" mostréis por pantalla el resultado, así podéis ver si os ha salido bien (en algunos casos, para poder ver si está bien no bastará con hacer print(loquesea), pero entiendo que os daréis cuenta en esos casos).\n",
    "\n",
    "Todos estos ejercicios han sido pensados para emplear los métodos básicos que deberíais conocer y que os serán útil en un futuro (por ejemplo, en entrevistas de trabajo). Es cierto que seguir estos pasos de forma literal no tendréis que hacerlo en un futuro, pero es la mejor forma para que podáis practicar todo en general.\n",
    "\n",
    "Dicho lo cual, ¡mucho ánimo!"
   ]
  },
  {
   "attachments": {},
   "cell_type": "markdown",
   "metadata": {},
   "source": [
    "<center><img src=\"https://upload.wikimedia.org/wikipedia/commons/thumb/c/c3/Python-logo-notext.svg/1869px-Python-logo-notext.svg.png\" width=\"100\" height=\"100\"></center>\n",
    "\n",
    "# <center><B><FONT COLOR=\"red\"> 1.</FONT> Creación de funciones </center>"
   ]
  },
  {
   "attachments": {},
   "cell_type": "markdown",
   "metadata": {},
   "source": [
    "## Ejercicio 1.1"
   ]
  },
  {
   "attachments": {},
   "cell_type": "markdown",
   "metadata": {},
   "source": [
    "* Genera una función que nos diga si un número es múltiplo de otro. \n",
    "* Ponla a prueba pidiendo por pantalla al usuario que introduzca los dos números al llamar al método.\n",
    "* Prepara la petición por pantalla para que si el usuario no introduce números enteros y distintos del 0 le pida que vuelva a introducirlo, poniéndolo nuevamente a prueba."
   ]
  },
  {
   "cell_type": "code",
   "execution_count": null,
   "metadata": {},
   "outputs": [],
   "source": [
    "def es_multiplo(num1, num2):\n",
    "    \"\"\"\n",
    "    Esta función verifica si num1 es múltiplo de num2.\n",
    "    \n",
    "    Parámetros:\n",
    "    num1 (int): El número que se va a verificar.\n",
    "    num2 (int): El número con el que se va a verificar el múltiplo.\n",
    "    \n",
    "    Retorna:\n",
    "    bool: True si num1 es múltiplo de num2, False en caso contrario.\n",
    "    \"\"\"\n",
    "    if num2 == 0:\n",
    "        return False\n",
    "    return num1 % num2 == 0\n",
    "\n",
    "# Ejemplo de uso\n",
    "while True:\n",
    "    try:\n",
    "        num1 = int(input(\"Introduce el primer número (entero y distinto de 0): \"))\n",
    "        num2 = int(input(\"Introduce el segundo número (entero y distinto de 0): \"))\n",
    "        if num1 == 0 or num2 == 0:\n",
    "            raise ValueError(\"Los números deben ser distintos de 0.\")\n",
    "        break\n",
    "    except ValueError as e:\n",
    "        print(f\"Entrada inválida: {e}. Por favor, inténtalo de nuevo.\")\n",
    "\n",
    "print(es_multiplo(num1, num2))"
   ]
  },
  {
   "attachments": {},
   "cell_type": "markdown",
   "metadata": {},
   "source": [
    "## Ejercicio 1.2"
   ]
  },
  {
   "attachments": {},
   "cell_type": "markdown",
   "metadata": {},
   "source": [
    "* Genera un diccionario con el nombre y primer apellido de todas las personas conectadas en clase en el momento en el que estés haciendo este ejercicio, en minúsculas y sin tildes ni 'ñ'. De esta forma, sus nombres y apellidos serán las claves y el número de letras en la clave serán los valores. Si haces este ejercicio fuera de clase... hazlo con las últimas 5 personas que hayan hablado por el grupo de Whatsapp, por ejemplo. [EXTRA: ¿Serías capaz de, a partir de la lista de nombres, crear un diccionario por comprensión?]\n",
    "* Crea una función que compruebe si un nombre dado está en el diccionario. \n",
    "* Usa esta función para comprobar si algunas personas están en el diccionario o no, introducidas por el usuario.\n",
    "* Si no lo has hecho ya, arregla tu código para que no importe si el usuario emplea mayúsculas o minúsculas y comprueba que funciona.\n"
   ]
  },
  {
   "cell_type": "code",
   "execution_count": 2,
   "metadata": {},
   "outputs": [
    {
     "name": "stdout",
     "output_type": "stream",
     "text": [
      "{'luis diaz': 9, 'carlos sanchez': 14, 'maria rodriguez': 15, 'juan gonzalez': 13, 'maria fernandez': 15}\n"
     ]
    }
   ],
   "source": [
    "import random\n",
    "\n",
    "# Lista de nombres y apellidos de ejemplo\n",
    "nombres = ['Carlos', 'María', 'Juan', 'Ana', 'Luis', 'Elena', 'Miguel', 'Laura', 'Pedro', 'Carmen']\n",
    "apellidos = ['García', 'Martínez', 'López', 'Sánchez', 'Pérez', 'Gómez', 'Fernández', 'González', 'Rodríguez', 'Díaz']\n",
    "\n",
    "# Generar diccionario con nombres y apellidos aleatorios\n",
    "diccionario_nombres = {}\n",
    "for _ in range(5):\n",
    "    nombre_completo = f\"{random.choice(nombres)} {random.choice(apellidos)}\".lower().replace('á', 'a').replace('é', 'e').replace('í', 'i').replace('ó', 'o').replace('ú', 'u').replace('ñ', 'n')\n",
    "    diccionario_nombres[nombre_completo] = len(nombre_completo)\n",
    "\n",
    "def comprobar_nombre(nombre):\n",
    "    \"\"\"\n",
    "    Esta función verifica si un nombre completo está en el diccionario de nombres.\n",
    "\n",
    "    Parámetros:\n",
    "    nombre (str): El nombre completo a verificar.\n",
    "\n",
    "    Retorna:\n",
    "    bool: True si el nombre está en el diccionario, False en caso contrario.\n",
    "    \"\"\"\n",
    "    nombre = nombre.lower().replace('á', 'a').replace('é', 'e').replace('í', 'i').replace('ó', 'o').replace('ú', 'u').replace('ñ', 'n')\n",
    "    return nombre in diccionario_nombres\n",
    "\n",
    "# Ejemplo de uso\n",
    "nombre_a_comprobar = input(\"Introduce el nombre completo a comprobar: \").strip().lower().replace('á', 'a').replace('é', 'e').replace('í', 'i').replace('ó', 'o').replace('ú', 'u').replace('ñ', 'n')\n",
    "print(comprobar_nombre(nombre_a_comprobar))"
   ]
  },
  {
   "attachments": {},
   "cell_type": "markdown",
   "metadata": {},
   "source": [
    "## Ejercicio 1.3"
   ]
  },
  {
   "attachments": {},
   "cell_type": "markdown",
   "metadata": {},
   "source": [
    "El siguiente ejercicio no es mío, lo hice hace muchos años, es muy típico la verdad y principalmente es útil. Hay muchas versiones de él en internet, es largo así que no os preocupéis, os recomiendo dejarlo para los últimos."
   ]
  },
  {
   "attachments": {},
   "cell_type": "markdown",
   "metadata": {},
   "source": [
    "Vamos a trabajar ahora creando un montón de funciones para poder trabajar con fracciones de la forma a/b. Esto yo lo he usado para crear clases, pero me parece más útil que lo usemos como varios ejercicios de funciones seguidos, que tampoco tenéis tanto tiempo. Para representar una fracción vamos a utilizar dos enteros: numerador (la 'a') y un denominador (la 'b').  \n",
    "\n",
    "Así pues, nuestro trabajo se basa en conseguir generar las siguientes funciones (la idea es que cada función nos devuelva un par de valores: el numerador y el denominador):\n",
    "\n",
    "* leer_fraccion: Queremos que el usuario introduzca 'a' y 'b' por pantalla. Además, queremos que simplifiques la fracción. Para ello tendrás que crear otra función llamada simplificar_funcion, que haréis en el siguiente punto. \n",
    "* simplificar_fraccion: Esto se hace dividiendo 'a' y 'b' entre el máximo común divisor (MCD) de ellos dos. Os daré esa función para ir más rápido. La idea es que esta función nos devuelva los dos valores ya arreglados. IMPORTANTE: ESTA SERÁ LA FUNCIÓN QUE LLAMAMEMOS CUANDO QUERAMOS SIMPLIFICAR OTRA.\n",
    "* escribir_fraccion: Ahora queremos simplemente que nos imprima la fracción de la forma 'a/b', pero como sabéis, si el denominador es 1, entonces con que se imprima 'a' es suficiente. \n",
    "* sumar_fracciones: Dadas dos fracciones 'a/b' y 'c/d', queremos sumarlas. Para ello hay que recurrir a las fórmulas que vimos hace años en secundaria, que tenéis por Google o que os dejo aquí delante: numerador = a·d+b·c, denominador = b·d. Por supuesto debemos simplificar nuevamente el resultado antes de devolverlo.\n",
    "* restar_fracciones: Literalmente lo que acabáis de hacer pero cambiando el signo '+' por el signo '-'. \n",
    "* multiplicar_fracciones: Aquí nos toca multiplicar numeradores por un lado, denominadores por otro y luego simplificar el resultado.\n",
    "* dividir_fracciones: Dividir entre una fracción es multiplicar por la inversa. Así, el numerador tendrá que ser a·d y el denominador será b·c. Por supuesto toca simplificar el resultado.   \n",
    "\n",
    "Finalmente comprobad que funcionan estas funciones. "
   ]
  },
  {
   "cell_type": "code",
   "execution_count": 7,
   "metadata": {},
   "outputs": [],
   "source": [
    "# ¡Ánimo! \n",
    "from math import gcd as MCD\n",
    "\n",
    "def simplificar_fraccion(a, b):\n",
    "    divisor_comun = MCD(a, b)\n",
    "    return a // divisor_comun, b // divisor_comun\n",
    "\n",
    "def leer_fraccion():\n",
    "    while True:\n",
    "        try:\n",
    "            a = int(input(\"Introduce el numerador (entero): \"))\n",
    "            b = int(input(\"Introduce el denominador (entero y distinto de 0): \"))\n",
    "            if b == 0:\n",
    "                raise ValueError(\"El denominador debe ser distinto de 0.\")\n",
    "            return simplificar_fraccion(a, b)\n",
    "        except ValueError as e:\n",
    "            print(f\"Entrada inválida: {e}. Por favor, inténtalo de nuevo.\")\n",
    "\n",
    "def escribir_fraccion(a, b):\n",
    "    if b == 1:\n",
    "        print(a)\n",
    "    else:\n",
    "        print(f\"{a}/{b}\")\n",
    "\n",
    "def sumar_fracciones(a, b, c, d):\n",
    "    numerador = a * d + b * c\n",
    "    denominador = b * d\n",
    "    return simplificar_fraccion(numerador, denominador)\n",
    "\n",
    "def restar_fracciones(a, b, c, d):\n",
    "    numerador = a * d - b * c\n",
    "    denominador = b * d\n",
    "    return simplificar_fraccion(numerador, denominador)\n",
    "\n",
    "def multiplicar_fracciones(a, b, c, d):\n",
    "    numerador = a * c\n",
    "    denominador = b * d\n",
    "    return simplificar_fraccion(numerador, denominador)\n",
    "\n",
    "def dividir_fracciones(a, b, c, d):\n",
    "    numerador = a * d\n",
    "    denominador = b * c\n",
    "    return simplificar_fraccion(numerador, denominador)\n",
    "\n",
    "# Ejemplo de uso\n",
    "a, b = leer_fraccion()\n",
    "c, d = leer_fraccion()\n",
    "\n",
    "print(\"Suma de fracciones:\")\n",
    "escribir_fraccion(*sumar_fracciones(a, b, c, d))\n",
    "\n",
    "print(\"Resta de fracciones:\")\n",
    "escribir_fraccion(*restar_fracciones(a, b, c, d))\n",
    "\n",
    "print(\"Multiplicación de fracciones:\")\n",
    "escribir_fraccion(*multiplicar_fracciones(a, b, c, d))\n",
    "\n",
    "print(\"División de fracciones:\")\n",
    "escribir_fraccion(*dividir_fracciones(a, b, c, d))\n"
   ]
  },
  {
   "cell_type": "markdown",
   "metadata": {},
   "source": [
    "Y ahora lo gracioso... ¿Cómo podemos meter todo esto en una sola clase llamada \"Fraccion\"? "
   ]
  },
  {
   "attachments": {},
   "cell_type": "markdown",
   "metadata": {},
   "source": [
    "<center><img src=\"https://numpy.org/images/logo.svg\" width=\"100\" height=\"100\"></center>\n",
    "\n",
    "# <center><B><FONT COLOR=\"red\">2.</FONT> Numpy</center>"
   ]
  },
  {
   "cell_type": "code",
   "execution_count": 17,
   "metadata": {},
   "outputs": [],
   "source": [
    "import numpy as np"
   ]
  },
  {
   "attachments": {},
   "cell_type": "markdown",
   "metadata": {},
   "source": [
    "## Ejercicio 2.1"
   ]
  },
  {
   "attachments": {},
   "cell_type": "markdown",
   "metadata": {},
   "source": [
    "* Genera un array (que no una lista) de 15 números enteros aleatorios entre el -2 y el -19. **¡Cuidado con el signo!**\n",
    "* Concaténale 4 valores nulos (nulos como hemos comentado en clase, no simplemente \"0\").\n",
    "* Baraja estos valores.\n",
    "* Elimina los valores nulos.\n",
    "* Ordena de mayor a menor estos valores."
   ]
  },
  {
   "attachments": {},
   "cell_type": "markdown",
   "metadata": {},
   "source": [
    "## Ejercicio 2.2"
   ]
  },
  {
   "attachments": {},
   "cell_type": "markdown",
   "metadata": {},
   "source": [
    "* Genera un array de 20 números que sigan una distribución normal de media 20 y varianza 9. **Cuidado con la diferencia entre varianza y desviación típica**. Fija la semilla como tu número preferido.\n",
    "* Convierte esos números a strings con solo dos decimales. \n",
    "* Transforma esos datos en una matriz de 4x5. \n",
    "* Convierte el tipo de dato de sus valores a entero. \n",
    "* Calcula la media por columnas. "
   ]
  },
  {
   "attachments": {},
   "cell_type": "markdown",
   "metadata": {},
   "source": [
    "# <center><img src=\"https://upload.wikimedia.org/wikipedia/commons/thumb/2/22/Pandas_mark.svg/1200px-Pandas_mark.svg.png\" width=\"200\" height=\"200\"></center>\n",
    "# <center><B><FONT COLOR=\"red\">3. </FONT>Pandas</center>"
   ]
  },
  {
   "cell_type": "code",
   "execution_count": 28,
   "metadata": {},
   "outputs": [],
   "source": [
    "import pandas as pd"
   ]
  },
  {
   "attachments": {},
   "cell_type": "markdown",
   "metadata": {},
   "source": [
    "## Ejercicio 3.1"
   ]
  },
  {
   "attachments": {},
   "cell_type": "markdown",
   "metadata": {},
   "source": [
    "* Cargad el archivo que se encuentra en la web https://openmv.net/file/food-consumption.csv\n",
    "Este dataset contiene información sobre el porcentaje de personas que tomaban cada cosa. Por ejemplo, según el dataset, un 40% de os españoles toman té frente al 99% de los ingleses.\n",
    "* Mostradme ahora cuántos países cumplen con que al menos la mitad de las personas tomen naranjas y manzanas. Pido el número, no el listado de países. \n",
    "* Muéstrame ahora qué países eran los que cumplían lo anterior, ya que estamos. \n",
    "* Teniendo en cuenta que aquí los datos no tienen decimales distintos de 0... cambia el tipo de dato a entero. Si obtienes algún error, es posible que tengas que leer antes el siguiente apartado.\n",
    "* ¡Tenemos tres datos faltantes! Pues por practicar, imputa uno de ellos por la media, otro por la moda y otro por la mediana, tú decides el orden. \n",
    "* ¿Hay valores duplicados? Si es así corrígelo.\n",
    "* ¿Hay valores atípicos? Lo mismo. \n",
    "* ¿Qué país tomó más mantequilla? \n",
    "* ¿Cuál tomó menos margarina? \n",
    "* ¿Cuántos países están por encima de la media de la toma de patatas? ¿Cuántos países están por encima de la moda de la toma de patatas? \n",
    "* Genera una nueva columna que sea la media de todos los valores de su fila (salvo, claro, el país). \n",
    "* Ya llevamos demasiado tiempo teniendo un falso índice. Si no lo has hecho, cambia el índice para que pase a ser el país. \n"
   ]
  },
  {
   "attachments": {},
   "cell_type": "markdown",
   "metadata": {},
   "source": [
    "## Ejercicio 3.2"
   ]
  },
  {
   "attachments": {},
   "cell_type": "markdown",
   "metadata": {},
   "source": [
    "* Crea _**una copia**_ de las tres columnas que más te gusten de ese dataframe. \n",
    "* Dame la **info**rmación más relevante sobre las columnas de tu DataFrame.\n",
    "* **Describe** los parámetros más interesantes sobre tu DataFrame.\n",
    "* Digamos que has pillado las columnas A, B y C. Quiero que me muestres los 5 últimos valores que salgan en la columna B si el valor en la columna A es mayor que la mitad del valor en la columna C.\n",
    "* Añádele a la columna B el símbolo del porcentaje '%'. Tendrás que cambiar el tipo de dato. \n"
   ]
  },
  {
   "attachments": {},
   "cell_type": "markdown",
   "metadata": {},
   "source": [
    "## Ejercicio 3.3"
   ]
  },
  {
   "attachments": {},
   "cell_type": "markdown",
   "metadata": {},
   "source": [
    "¿Recuerdas el diccionario que has tenido que hacer antes con los nombres? \n",
    "* Genera un DataFrame a partir de ese diccionario, pero de forma que las claves sean el índice y los valores la primera columna, llamada 'numero_letras'. \n",
    "* Usando eso como base, genera un par de columnas más con lo que se te ocurra.\n"
   ]
  },
  {
   "attachments": {},
   "cell_type": "markdown",
   "metadata": {},
   "source": [
    "# <center><img src=\"https://images.vexels.com/media/users/3/206048/isolated/preview/938c466a41374861e7a71760dcd8b198-barras-graficas-planas.png\" width=\"200\" height=\"200\"></center>\n",
    "\n",
    "# <center> <B><FONT COLOR=\"red\">4.</FONT> Gráficos</center>"
   ]
  },
  {
   "attachments": {},
   "cell_type": "markdown",
   "metadata": {},
   "source": [
    "## Ejercicio 4.1"
   ]
  },
  {
   "attachments": {},
   "cell_type": "markdown",
   "metadata": {},
   "source": [
    "* Usando el DataFrame del ejercicio 3.1, dibuja, para el producto que te apetezca, una gráfica que muestre los 5 países que más toman cierto producto con un gráfico apropiado.\n",
    "* Muestra la variabilidad que presentan los datos sobre el consumo de café (por ejemplo, con un gráfico de cajas y bigotes o con el gráfico que se supone tiene forma de violín). "
   ]
  },
  {
   "attachments": {},
   "cell_type": "markdown",
   "metadata": {},
   "source": [
    "## Ejercicio 4.2"
   ]
  },
  {
   "attachments": {},
   "cell_type": "markdown",
   "metadata": {},
   "source": [
    "* Dibuja en 3D los valores que están en el intervalo $[-2,2]$ en ambas variables para la función $Z=X^2-Y^2$. Como curiosidad, esta forma se llama \"silla de montar\". \n",
    "* Añade cierto error vertical a cada punto."
   ]
  },
  {
   "attachments": {},
   "cell_type": "markdown",
   "metadata": {},
   "source": [
    "## Ejercicio 4.3"
   ]
  },
  {
   "attachments": {},
   "cell_type": "markdown",
   "metadata": {},
   "source": [
    "Como recordaréis, Seaborn tiene varios datasets para practicar. \n",
    "* Carga el dataset sobre las flores de iris. \n",
    "* Representa para las flores versicolor una recta de regresión que prediga la longitud del sépalo en función de la anchura del pétalo. \n",
    "* Haz un dibujo que muestre la relación entre todas las variables, dos a dos, separando por la especie de la flor. \n",
    "* Haz un mapa de calor triangular inferior para conocer la relación lineal entre estas variables. ¿Ha sido óptima nuestra elección de variables para la recta de regresión lineal?"
   ]
  },
  {
   "attachments": {},
   "cell_type": "markdown",
   "metadata": {},
   "source": [
    "# <center><img src=\"https://cdn-icons-png.flaticon.com/512/2274/2274874.png\" width=\"200\" height=\"200\"></center>\n",
    "\n",
    "# <center><B><FONT COLOR=\"red\">5.</FONT> Test de hipótesis</center>"
   ]
  },
  {
   "cell_type": "code",
   "execution_count": 59,
   "metadata": {},
   "outputs": [],
   "source": [
    "from scipy.stats import shapiro, ttest_ind, mannwhitneyu\n",
    "from statsmodels.tsa.stattools import adfuller"
   ]
  },
  {
   "attachments": {},
   "cell_type": "markdown",
   "metadata": {},
   "source": [
    "## Ejercicio 5.1"
   ]
  },
  {
   "attachments": {},
   "cell_type": "markdown",
   "metadata": {},
   "source": [
    "* Carga el dataset sobre las flores iris si no lo has hecho previamente.\n",
    "* Comprueba si las cuatro variables numéricas siguen una distribución normal con un 5% de confianza.\n",
    "* ¿Dirías que hay una diferencia significativa entre la anchura de los pétalos de la especie versicolor respecto a virginica?\n"
   ]
  },
  {
   "attachments": {},
   "cell_type": "markdown",
   "metadata": {},
   "source": [
    "## Ejercicio 5.2"
   ]
  },
  {
   "attachments": {},
   "cell_type": "markdown",
   "metadata": {},
   "source": [
    "* Carga el dataset seaice de Seaborn. Es un dataset bastante largo, una serie temporal.\n",
    "* ¿Tendría sentido realizar un estudio detallado sobre la serie temporal? Para ello, necesitaríamos que tuviese cierta regresión hacia su media. Usa uno de los tests que hemos estudiado."
   ]
  },
  {
   "attachments": {},
   "cell_type": "markdown",
   "metadata": {},
   "source": [
    "# <center><img src=\"https://icon-library.com/images/machine-learning-icon/machine-learning-icon-28.jpg\" width=\"200\" height=\"200\"></center>\n",
    "\n",
    "# <center><B><FONT COLOR=\"red\">6.</FONT> Machine learning</center>"
   ]
  },
  {
   "cell_type": "code",
   "execution_count": 68,
   "metadata": {},
   "outputs": [],
   "source": [
    "from sklearn.model_selection import train_test_split\n",
    "from sklearn.linear_model import LinearRegression\n",
    "from sklearn.ensemble import RandomForestClassifier\n",
    "from sklearn.cluster import KMeans\n",
    "from statsmodels.tsa.arima.model import ARIMA\n",
    "from statsmodels.graphics.tsaplots import plot_acf, plot_pacf\n",
    "\n",
    "from sklearn.datasets import make_blobs\n",
    "\n",
    "from sklearn.metrics import mean_absolute_error, mean_squared_error, confusion_matrix, classification_report, accuracy_score, f1_score"
   ]
  },
  {
   "attachments": {},
   "cell_type": "markdown",
   "metadata": {},
   "source": [
    "## Ejercicio 6.1"
   ]
  },
  {
   "attachments": {},
   "cell_type": "markdown",
   "metadata": {},
   "source": [
    "Vamos a hacer una simple regresión. Para ello...\n",
    "* Carga el dataset de las propinas de Seaborn.\n",
    "* Vamos a intentar deducir la propina en función al total de la factura y al tamaño del grupo. Asigna las columnas pertinentes a 'X' y a 'y'.\n",
    "* Haz una división del 70/30 para el entrenamiento y el test.\n",
    "* Instancia el modelo. Puedes usar cualquiera de los que vimos en clase.\n",
    "* Entrena el modelo. \n",
    "* Comprueba el error cometido por las predicciones del modelo. Para ello te recomiendo importar las funciones mean_absolute_error y mean_quadratic_error en lugar de hacerlas a mano, que es lo que se suele hacer (son de sklearn.metrics). Como detalle, solemos usar la raíz cuadrada del error cuadrático medio para saber el margen de error que cometemos en la predicción. \n"
   ]
  },
  {
   "attachments": {},
   "cell_type": "markdown",
   "metadata": {},
   "source": [
    "## Ejercicio 6.2"
   ]
  },
  {
   "attachments": {},
   "cell_type": "markdown",
   "metadata": {},
   "source": [
    "Vamos a hacer una clasificación. Básicamente, lo mismo que en el ejercicio anterior pero con otros métodos y otro dataset. \n",
    "* Descarga el dataset de https://archive.ics.uci.edu/ml/machine-learning-databases/wine-quality/winequality-red.csv\n",
    "* Vamos a intentar deducir la calidad del vino en función a sus atributos. Asigna las columnas pertinentes a 'X' y a 'y'.\n",
    "* Haz una división del 70/30 para el entrenamiento y el test. Recuerda que este es un modelo de clasificación.\n",
    "* Instancia el modelo. Puedes usar cualquiera de los que vimos en clase.\n",
    "* Entrena el modelo. \n",
    "* Comprueba el error cometido por las predicciones del modelo. Sería idóneo mostrar el error tanto con la matriz de confusión como con distintas métricas, incluyendo el F1-score. \n"
   ]
  },
  {
   "attachments": {},
   "cell_type": "markdown",
   "metadata": {},
   "source": [
    "## Ejercicio 6.3"
   ]
  },
  {
   "attachments": {},
   "cell_type": "markdown",
   "metadata": {},
   "source": [
    "Vamos a hacer una agrupación. Emplearemos para ello el modelo no supervisado [k-Means++](https://scikit-learn.org/stable/modules/generated/sklearn.cluster.KMeans.html).\n",
    "* Esta vez vamos a crear nuestro propio dataset. Para ello, con el uso de [make_blobs](https://scikit-learn.org/stable/modules/generated/sklearn.datasets.make_blobs.html) vamos a crear un dataset que tenga 5 grupos y 2000 puntos. Así obtendremos nuestra 'X' (la 'y' no la usaremos por ser un modelo no supervisado, luego nómbrala adecuadamente para darle a entender a cualquiera que lea nuestro código que no vamos a usar esa variable). Recuerda las buenas prácticas que comentábamos debemos aplicar en machine learning (fija una semilla).\n",
    "* Dibuja estos puntos en el plano. \n",
    "* Instancia el modelo. Asigna para ello los hiperparámetros correctamente. En esta ejercicio podemos tratar de dividirlo en 4 grupos. Recuerda que queremos usar k-Means++, no simplemente k-Means, por lo que tendrás que buscar cómo hacerlo según la documentación. \n",
    "* Entrena el modelo. Recuerda darle un nombre al mismo. \n",
    "* Dibuja ahora estos puntos en el plano pero con distintos colores según la predicción del modelo. "
   ]
  },
  {
   "attachments": {},
   "cell_type": "markdown",
   "metadata": {},
   "source": [
    "## Ejercicio 6.4"
   ]
  },
  {
   "attachments": {},
   "cell_type": "markdown",
   "metadata": {},
   "source": [
    "Vamos a trabajar con una serie temporal. \n",
    "* Carga el dataset de https://raw.githubusercontent.com/jbrownlee/Datasets/master/shampoo.csv. Sería interesante que desde un principio selecciones la columna que quieres sea tu índice.\n",
    "* Grafica en primer lugar la evolución de este dataset. \n",
    "* Emplea el modelo ARIMA estudiado en clase. Tendrás que deducir los hiperparámetros del modelo (recuerda estudiar el nivel de **diff**erenciación que emplearás). Ayúdate de las reglas que vimos en https://people.duke.edu/~rnau/411arim3.htm. \n",
    "* Instancia el modelo. Puedes usar cualquiera de los que vimos en clase.\n",
    "* Entrena el modelo. \n",
    "* Muestra el resumen del entrenamiento del modelo y selecciona una métrica apropiada para comprobar el error. \n",
    "* Comprueba si el error resultante es un ruido blanco (recuerda emplear plot_diagnostics para que sea menos trabajoso).\n",
    "* Realiza una predicción para el siguiente mes.\n"
   ]
  },
  {
   "attachments": {},
   "cell_type": "markdown",
   "metadata": {},
   "source": [
    "# <center>¡Y esto es todo...<B><FONT COLOR=\"red\"> por ahora!</FONT></center>\n",
    "\n"
   ]
  }
 ],
 "metadata": {
  "kernelspec": {
   "display_name": "Python 3",
   "language": "python",
   "name": "python3"
  },
  "language_info": {
   "codemirror_mode": {
    "name": "ipython",
    "version": 3
   },
   "file_extension": ".py",
   "mimetype": "text/x-python",
   "name": "python",
   "nbconvert_exporter": "python",
   "pygments_lexer": "ipython3",
   "version": "3.10.11"
  },
  "orig_nbformat": 4,
  "vscode": {
   "interpreter": {
    "hash": "571e5608ea1cd1c429882460149565db850fda78538ed8d93b4fa6343031d046"
   }
  }
 },
 "nbformat": 4,
 "nbformat_minor": 2
}
