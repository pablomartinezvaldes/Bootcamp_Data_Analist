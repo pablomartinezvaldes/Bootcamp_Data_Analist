{
 "cells": [
  {
   "cell_type": "markdown",
   "metadata": {},
   "source": [
    "### Ejemplos de  clases"
   ]
  },
  {
   "cell_type": "code",
   "execution_count": 1,
   "metadata": {},
   "outputs": [],
   "source": [
    "class Perro:\n",
    "    #self es el objeto que se está creando y es obligatorio\n",
    "    #__init__ es el constructor de la clase y se ejecuta al crear un objeto\n",
    "    def __init__(self, nombre, edad): \n",
    "        self.nombre = nombre\n",
    "        self.edad = edad\n",
    "    \n",
    "    def ladra(self):\n",
    "        print(f'{self.nombre} dice guau guau')\n",
    "    \n",
    "    def __str__(self):\n",
    "        return f'{self.nombre} tiene {self.edad} años'"
   ]
  },
  {
   "cell_type": "code",
   "execution_count": 4,
   "metadata": {},
   "outputs": [
    {
     "data": {
      "text/plain": [
       "'Rex'"
      ]
     },
     "execution_count": 4,
     "metadata": {},
     "output_type": "execute_result"
    }
   ],
   "source": [
    "mi_perro = Perro('Rex', 3)\n",
    "tu_perro = Perro('Firulais', 5)\n",
    "\n",
    "mi_perro.nombre"
   ]
  },
  {
   "cell_type": "code",
   "execution_count": 5,
   "metadata": {},
   "outputs": [
    {
     "name": "stdout",
     "output_type": "stream",
     "text": [
      "5\n"
     ]
    }
   ],
   "source": [
    "print(tu_perro.edad)"
   ]
  },
  {
   "cell_type": "markdown",
   "metadata": {},
   "source": [
    "#### Crea la clase coche con los atributos marca, modelo y año"
   ]
  },
  {
   "cell_type": "code",
   "execution_count": null,
   "metadata": {},
   "outputs": [],
   "source": [
    "class Coche:\n",
    "    def __init__(self, marca, modelo, año):\n",
    "        self.marca = marca\n",
    "        self.modelo = modelo\n",
    "        self.año = año\n",
    "\n",
    "    def __str__(self):\n",
    "        return f'{self.marca} {self.modelo} del año {self.año}'"
   ]
  },
  {
   "cell_type": "markdown",
   "metadata": {},
   "source": [
    "#### Crea tres coches con sus respectivos atributos"
   ]
  },
  {
   "cell_type": "code",
   "execution_count": null,
   "metadata": {},
   "outputs": [],
   "source": [
    "coche1 = Coche('Toyota', 'Corolla', 2020)\n",
    "coche2 = Coche('Ford', 'Mustang', 2018)\n",
    "coche3 = Coche('Chevrolet', 'Camaro', 2019)\n",
    "\n",
    "print(coche1)\n",
    "print(coche2)\n",
    "print(coche3)"
   ]
  },
  {
   "cell_type": "markdown",
   "metadata": {},
   "source": [
    "#### Añadir a la clase coche los comportamientos acelerar y frenar como funciones"
   ]
  },
  {
   "cell_type": "code",
   "execution_count": null,
   "metadata": {},
   "outputs": [],
   "source": [
    "class Coche:\n",
    "    def __init__(self, marca, modelo, año):\n",
    "        self.marca = marca\n",
    "        self.modelo = modelo\n",
    "        self.año = año\n",
    "\n",
    "    def __str__(self):\n",
    "        return f'{self.marca} {self.modelo} del año {self.año}'\n",
    "\n",
    "    def acelerar(self):\n",
    "        print(f'El {self.marca} {self.modelo} está acelerando.')\n",
    "\n",
    "    def frenar(self):\n",
    "        print(f'El {self.marca} {self.modelo} está frenando.')\n"
   ]
  }
 ],
 "metadata": {
  "kernelspec": {
   "display_name": "Python 3",
   "language": "python",
   "name": "python3"
  },
  "language_info": {
   "codemirror_mode": {
    "name": "ipython",
    "version": 3
   },
   "file_extension": ".py",
   "mimetype": "text/x-python",
   "name": "python",
   "nbconvert_exporter": "python",
   "pygments_lexer": "ipython3",
   "version": "3.10.11"
  }
 },
 "nbformat": 4,
 "nbformat_minor": 2
}
